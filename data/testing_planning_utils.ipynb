{
 "cells": [
  {
   "cell_type": "markdown",
   "metadata": {},
   "source": [
    "# Testing backend utility functions for course planning\n",
    "\n",
    "The purpose of this notebook is to test the course planning utilities in the backend api to ensure proper functionality.\n",
    "\n",
    "- The first cells in this notebook are the relevant functions from the `utils.py` file. \n",
    "- The subsequent cells are testing the various functions."
   ]
  },
  {
   "cell_type": "code",
   "execution_count": 2,
   "metadata": {},
   "outputs": [],
   "source": [
    "from typing import List\n",
    "import re\n",
    "\n",
    "from models import (CompletedCourse)"
   ]
  },
  {
   "cell_type": "code",
   "execution_count": 3,
   "metadata": {},
   "outputs": [
    {
     "name": "stderr",
     "output_type": "stream",
     "text": [
      "/var/folders/b6/zjrzfvq14h12kvt3_h7c4fwr0000gn/T/ipykernel_5968/935469134.py:8: UserWarning: You appear to be connected to a CosmosDB cluster. For more information regarding feature compatibility and support please visit https://www.mongodb.com/supportability/cosmosdb\n",
      "  db_client = pymongo.MongoClient(CONNECTION_STRING, tlsCAFile=certifi.where())\n"
     ]
    }
   ],
   "source": [
    "# Get the db client\n",
    "import pymongo\n",
    "import os\n",
    "import certifi\n",
    "from dotenv import load_dotenv\n",
    "load_dotenv()\n",
    "CONNECTION_STRING = os.getenv(\"AZURE_COSMOS_CONNECTION_STRING\")\n",
    "db_client = pymongo.MongoClient(CONNECTION_STRING, tlsCAFile=certifi.where())\n",
    "db = db_client[\"db\"]"
   ]
  },
  {
   "cell_type": "code",
   "execution_count": 4,
   "metadata": {},
   "outputs": [],
   "source": [
    "# Get the degrees\n",
    "import json\n",
    "with open('data/programs.json', 'r') as f:\n",
    "    degrees = json.load(f)"
   ]
  },
  {
   "cell_type": "code",
   "execution_count": 8,
   "metadata": {},
   "outputs": [],
   "source": [
    "# Course Planning Utility Functions\n",
    "# ---------------------------------\n",
    "\n",
    "def is_course_req(req):\n",
    "    \"\"\"Return True or False if the requirement is a course requirement and not a higher order requirement\"\"\"\n",
    "    if type(req) != dict:\n",
    "        return False\n",
    "    req_list = req.get('reqList')\n",
    "    if req_list is None or type(req_list) != list or len(req_list) == 0 or type(req_list[0]) != str:\n",
    "        return False\n",
    "    return len(re.findall(r\"[a-zA-Z]{2,4}\\d{3}\", req_list[0])) != 0\n",
    "\n",
    "def minimum_year_satisfied(units, rule):\n",
    "    \"\"\"Return True or False if the student satisfies a rule like minimum third-year\"\"\"\n",
    "    if units < 12 and ('second' in rule or 'third' in rule or 'fourth' in rule or 'fifth' in rule):\n",
    "        return False\n",
    "    elif units < 26.5 and ('third' in rule or 'fourth' in rule or 'fifth' in rule):\n",
    "        return False\n",
    "    elif units < 41.5 and ('fourth' in rule or 'fifth' in rule):\n",
    "        return False\n",
    "    elif units > 42 and 'fifth' in rule:\n",
    "        return False\n",
    "    return True\n",
    "\n",
    "def is_req_satisfied(req, units, completed_course_codes):\n",
    "    \"\"\"Return True or False if the requirement is satisfied given completed courses\"\"\"\n",
    "    if type(req) == str: # min year standing, could be other, may need to look into this...\n",
    "        return minimum_year_satisfied(units, req)\n",
    "    \n",
    "    if type(req) == list:\n",
    "        return all(is_req_satisfied(r, units, completed_course_codes) for r in req)\n",
    "\n",
    "    qty = req.get('quantity')\n",
    "    reqlist = req.get('reqList')\n",
    "\n",
    "    if is_course_req(req): \n",
    "        if qty == \"ALL\":\n",
    "            if not all(code in completed_course_codes for code in req['reqList']):\n",
    "                return False\n",
    "        elif type(qty) == int:\n",
    "            ct = 0\n",
    "            for i in range(len(reqlist)):\n",
    "                code = reqlist[i]\n",
    "                if code in completed_course_codes:\n",
    "                    ct += 1\n",
    "            if ct < qty:\n",
    "                return False\n",
    "        elif qty is None:\n",
    "            # print(\"course req, qty is none\")\n",
    "            # pprint(req)\n",
    "            return False\n",
    "        \n",
    "    else: # higher order prereqs\n",
    "        if qty == \"ALL\":\n",
    "            return all(is_req_satisfied(x, units, completed_course_codes) for x in reqlist)\n",
    "        elif type(qty) == int:\n",
    "            ct = 0\n",
    "            for i in range(len(reqlist)):\n",
    "                if is_req_satisfied(reqlist[i], units, completed_course_codes):\n",
    "                    ct += 1\n",
    "            if ct < qty:\n",
    "                return False\n",
    "        elif qty is None:\n",
    "            # print(\"upper req, qty is none\")\n",
    "            # print(req)\n",
    "            return False\n",
    "    \n",
    "    return True\n",
    "\n",
    "def can_take(course, units, completed_course_codes):\n",
    "    \"\"\"Return True or False if all requirements are satisfied for course given completed courses\"\"\"\n",
    "    prereqs = course.get('prerequisites')\n",
    "    if not prereqs:\n",
    "        return True\n",
    "    return all(is_req_satisfied(prereq, units, completed_course_codes) for prereq in prereqs)\n",
    "\n",
    "def get_unsatisfied_course_reqs(req, units, completed_course_codes):\n",
    "    new = []\n",
    "    if is_course_req(req):\n",
    "        if not is_req_satisfied(req, units, completed_course_codes):\n",
    "            return [req]\n",
    "    elif type(req) == list:\n",
    "        for r in req:\n",
    "            if not is_req_satisfied(req, units, completed_course_codes):\n",
    "                new += get_unsatisfied_course_reqs(r, units, completed_course_codes)\n",
    "    elif type(req) == str: # other reqs... dont bother with them here\n",
    "        pass\n",
    "    else:\n",
    "        if not is_req_satisfied(req, units, completed_course_codes):\n",
    "            new += get_unsatisfied_course_reqs(req['reqList'], units, completed_course_codes)\n",
    "    return new\n",
    "\n",
    "def get_course_reqs_left(degree, units, completed_course_codes):\n",
    "    \"\"\"Return a dictionary of the course requirements left. Keys are year and values are a list of course reqs.\"\"\"\n",
    "    reqs_left = {}\n",
    "\n",
    "    degree_requirements = degree.get('requirements')\n",
    "    if degree_requirements is None:\n",
    "        return {}\n",
    "    \n",
    "    # Get unsatisfied reqs\n",
    "    for info, req in degree_requirements.items():\n",
    "        reqs_left[info] = get_unsatisfied_course_reqs(req, units, completed_course_codes)\n",
    "\n",
    "    # Modify based on what's needed to be taken\n",
    "    for info, reqs in reqs_left.items():\n",
    "        for req in reqs:\n",
    "            qty = req.get('quantity')\n",
    "            if qty is None: # Unfortunately there are some unparsed requirements.\n",
    "                continue\n",
    "            if qty == 'ALL':\n",
    "                req['reqList'] = [code for code in req['reqList'] if code not in completed_course_codes]\n",
    "\n",
    "            elif type(qty) == int:\n",
    "                ct = 0\n",
    "                new_codes = []\n",
    "                for code in req['reqList']:\n",
    "                    if code in completed_course_codes:\n",
    "                        ct += 1\n",
    "                    else:\n",
    "                        new_codes.append(code)\n",
    "                req['quantity'] = qty - ct\n",
    "                req['reqList'] = new_codes\n",
    "            else:\n",
    "                raise Exception\n",
    "\n",
    "    reqs_left = {k:v for k,v in reqs_left.items() if v!=[]}\n",
    "    return reqs_left\n",
    "\n",
    "def get_courses_left(degree, units, completed_course_codes):\n",
    "    course_reqs_left = get_course_reqs_left(degree, units, completed_course_codes)\n",
    "    course_reqs = []\n",
    "    for reqs in course_reqs_left.values():\n",
    "        for req in reqs:\n",
    "            course_reqs.append(req)\n",
    "    course_codes = []\n",
    "    for req in course_reqs:\n",
    "        if any(type(x) == dict for x in req['reqList']):\n",
    "            continue\n",
    "        course_codes += req['reqList']\n",
    "    \n",
    "    return course_codes\n",
    "\n",
    "def get_useful_courses(db, degree, units, completed_course_codes):\n",
    "    \"\"\"Returns a triplet containing courses left in degree which (potential_courses, missing_prereq, not_offered)\"\"\"\n",
    "    courses_left = get_courses_left(degree, units, completed_course_codes)\n",
    "    courses = db.courses.aggregate([{'$match': {'_id': {'$in': courses_left}}}])\n",
    "    potential_courses = [x['_id'] for x in courses if can_take(x, units, completed_course_codes)]\n",
    "    missing_prereq = [x['_id'] for x in courses if x not in potential_courses]\n",
    "    not_offered = [code for code in courses_left if code not in potential_courses]\n",
    "    return (potential_courses, missing_prereq, not_offered)"
   ]
  },
  {
   "cell_type": "markdown",
   "metadata": {},
   "source": [
    "## Test case 1\n",
    "\n",
    "|Degree|Degree code|Completed courses\n",
    "|---|---|---|\n",
    "| Theatre History | BFA-THFM | THEA105, THEA111, THEA120A, THEA132A, THEA236, ATWP135"
   ]
  },
  {
   "cell_type": "code",
   "execution_count": 5,
   "metadata": {},
   "outputs": [],
   "source": [
    "degree_code = 'BSC-CTSC'\n",
    "degree = degrees[degree_code]\n",
    "completed_course_codes = ['MATH109', 'PHIL201', 'THEA150', 'CSC110', 'ATWP135']\n",
    "units = 7.5"
   ]
  },
  {
   "cell_type": "code",
   "execution_count": 7,
   "metadata": {},
   "outputs": [],
   "source": [
    "# degree['requirements']"
   ]
  },
  {
   "cell_type": "code",
   "execution_count": 13,
   "metadata": {},
   "outputs": [
    {
     "data": {
      "text/plain": [
       "{'Year 1': [{'quantity': 'ALL',\n",
       "   'reqList': ['THEA103',\n",
       "    'THEA104',\n",
       "    'THEA105',\n",
       "    'THEA106',\n",
       "    'THEA120A',\n",
       "    'THEA206']}]}"
      ]
     },
     "execution_count": 13,
     "metadata": {},
     "output_type": "execute_result"
    }
   ],
   "source": [
    "get_course_reqs_left(degree, units, completed_course_codes)"
   ]
  },
  {
   "cell_type": "code",
   "execution_count": null,
   "metadata": {},
   "outputs": [],
   "source": []
  },
  {
   "cell_type": "code",
   "execution_count": null,
   "metadata": {},
   "outputs": [],
   "source": []
  },
  {
   "cell_type": "code",
   "execution_count": null,
   "metadata": {},
   "outputs": [],
   "source": []
  },
  {
   "cell_type": "code",
   "execution_count": null,
   "metadata": {},
   "outputs": [],
   "source": []
  },
  {
   "cell_type": "code",
   "execution_count": null,
   "metadata": {},
   "outputs": [],
   "source": []
  }
 ],
 "metadata": {
  "kernelspec": {
   "display_name": "venv",
   "language": "python",
   "name": "python3"
  },
  "language_info": {
   "codemirror_mode": {
    "name": "ipython",
    "version": 3
   },
   "file_extension": ".py",
   "mimetype": "text/x-python",
   "name": "python",
   "nbconvert_exporter": "python",
   "pygments_lexer": "ipython3",
   "version": "3.12.3"
  }
 },
 "nbformat": 4,
 "nbformat_minor": 2
}
